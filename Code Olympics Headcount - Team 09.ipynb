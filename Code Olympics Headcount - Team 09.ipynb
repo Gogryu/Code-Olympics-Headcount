{
 "cells": [
  {
   "cell_type": "code",
   "execution_count": 28,
   "id": "bb01f2b2",
   "metadata": {},
   "outputs": [
    {
     "name": "stdout",
     "output_type": "stream",
     "text": [
      "[4, 4, 6, 4, 4]\n"
     ]
    },
    {
     "data": {
      "text/plain": [
       "'5 teams of [4, 4, 6, 4, 4] totaling 22'"
      ]
     },
     "execution_count": 28,
     "metadata": {},
     "output_type": "execute_result"
    }
   ],
   "source": [
    "\n",
    "# C̴̡̧͙̫̩̈́͒̀̏̓̕͝ǒ̵͈̮̣̦̰̬̇d̶͈̙̾̌͑ȩ̸̧͖̩̩̪͔̫̖͐̊̊̿̾ ̴̢̛͓̰͇͗̈͜Ȯ̸̧̰̺̼͍̜͚̦̰̹̿̍̓͂l̵̛̞̋́̉̑̌̿͂̈́ÿ̷̛̯̩͎̯͚́́͂͋͊́̽m̴͓̘̮̗̫̹̘͇̹̈́̎̾p̵͓͎̀̋̉̂͒̔̉ĩ̵̢̧̢͇͉̣̯̘̗̽̐͂́̕ͅç̶̹̳̟̩̪͎͙͋͆̿̐͛s̵̛̭̀͑̈̓́̍̈̀̉ ̶̧͉͂̍̌̎́̉̇̇͠H̴̛̳̼͇̻̾̑̈͆͆̀͝ę̵͖͉͕͕̗͙̩͚̌̋́̍̈̊̌̅͠ą̴͕͙̫̣̏̓̏̀̋d̷͕͓͉͕̭̈́͘͜ç̵̺̞͋͋͗ő̴̧͂̇̃͝ͅu̸͙̭̤̥̜̟̬͔̙͖̽̈́͗͝n̸̮̄̾͋̉̿͊͘͘͝ṫ̸̢̯̥̺̬̝͙̻̤̽̒̅͘͜͠͝\n",
    "\n",
    "def team_counter(event):\n",
    "    \n",
    "    def human_checker(i, j):\n",
    "        if i < 0 or i >= m or j < 0 or j >= n or event[i][j] == 0:\n",
    "            return 0\n",
    "        event[i][j] = 0\n",
    "        count = 1\n",
    "        count += human_checker(i+1, j)\n",
    "        count += human_checker(i-1, j)\n",
    "        count += human_checker(i, j+1)\n",
    "        count += human_checker(i, j-1)\n",
    "        # Checking diagonals seater if they are cray cray\n",
    "        count += human_checker(i+1, j+1)\n",
    "        count += human_checker(i+1, j-1)\n",
    "        count += human_checker(i-1, j+1)\n",
    "        count += human_checker(i-1, j-1)\n",
    "        return count\n",
    "    \n",
    "    m, n = len(event), len(event[0])\n",
    "    team_sizes = []\n",
    "    total_count = 0\n",
    "    for i in range(m):\n",
    "        for j in range(n):\n",
    "            if event[i][j] == 1:\n",
    "                size = human_checker(i, j)\n",
    "                team_sizes.append(size)\n",
    "                total_count += size\n",
    "    \n",
    "#     team_sizes.sort()\n",
    "    print(team_sizes)\n",
    "    num_teams = len(team_sizes)\n",
    "    result = f\"{num_teams} teams of {team_sizes} totaling {total_count}\"\n",
    "    return result\n",
    "\n",
    "\n",
    "event = [[1,1,0,0,0,0,1,1],\n",
    "         [1,1,0,1,1,0,1,1],\n",
    "         [0,0,0,1,1,0,0,0],\n",
    "         [1,1,0,1,1,0,1,1],\n",
    "         [1,1,0,0,0,0,1,1]]\n",
    "\n",
    "# event = [[1,1,1,1,1,1,1,1],\n",
    "#          [0,0,0,1,1,0,0,0],\n",
    "#          [0,0,1,0,0,1,0,0],\n",
    "#          [1,1,0,1,1,0,1,1],\n",
    "#          [1,1,0,0,0,0,1,1]]\n",
    "\n",
    "\n",
    "team_counter(event)"
   ]
  },
  {
   "cell_type": "code",
   "execution_count": null,
   "id": "3acfb43b",
   "metadata": {},
   "outputs": [],
   "source": []
  }
 ],
 "metadata": {
  "kernelspec": {
   "display_name": "Python 3 (ipykernel)",
   "language": "python",
   "name": "python3"
  },
  "language_info": {
   "codemirror_mode": {
    "name": "ipython",
    "version": 3
   },
   "file_extension": ".py",
   "mimetype": "text/x-python",
   "name": "python",
   "nbconvert_exporter": "python",
   "pygments_lexer": "ipython3",
   "version": "3.9.13"
  }
 },
 "nbformat": 4,
 "nbformat_minor": 5
}
